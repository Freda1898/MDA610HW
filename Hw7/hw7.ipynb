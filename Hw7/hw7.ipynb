{
 "cells": [
  {
   "cell_type": "code",
   "execution_count": 20,
   "metadata": {},
   "outputs": [
    {
     "name": "stdout",
     "output_type": "stream",
     "text": [
      "Mean of data set alist is  40.905\n",
      "Standard devation of data set alist is  34.44606759453498\n",
      "Standard Variance of data set alist is  1186.5315727272728\n"
     ]
    }
   ],
   "source": [
    "#Write a function to compute the mean, (sample) variance and (sample) standard deviation of a list of floating-point numbers\n",
    "#passed to the function. The function returns a dictionary that maps a set of keys to the above descriptive statistic values.\n",
    "import statistics\n",
    "from statistics import mean \n",
    "from statistics import variance\n",
    "from statistics import stdev \n",
    "\n",
    "alist= [2.9,4,6.8,18,93,78,22.0,77,44,30,25,90.16]\n",
    "#mean\n",
    "print (\"Mean of data set alist is  %s\" % (mean(alist)))\n",
    "#Standard Dev\n",
    "print (\"Standard devation of data set alist is  %s\" % (statistics.stdev(alist)))\n",
    "#standard Variance \n",
    "print (\"Standard Variance of data set alist is  %s\" % (statistics.variance(alist)))\n",
    "#variance \n"
   ]
  },
  {
   "cell_type": "code",
   "execution_count": 21,
   "metadata": {},
   "outputs": [
    {
     "name": "stdout",
     "output_type": "stream",
     "text": [
      "Please enter a number:6\n",
      "Please enter a number:8\n",
      "Please enter a number:9\n",
      "Please enter a number:10\n",
      "Please enter a number:4\n",
      "Please enter a number:stop\n",
      "count : 5\n",
      "Total :  37.0\n",
      "avg:  7.4\n"
     ]
    }
   ],
   "source": [
    "#Write a function to compute the mean of a series of numbers entered by the user. \n",
    "#The user is allowed to input as many numbers as she/he wants.\n",
    "#After the user enters \"stop\" instead of a number, \n",
    "#the function computes and returns the mean value.\n",
    "\n",
    "\n",
    "\n",
    "prompt = \"Please enter a number:\"\n",
    "count = 0\n",
    "total = 0\n",
    "avg= 0\n",
    "\n",
    "while True: \n",
    "    Numberstring= input(prompt)\n",
    "    if Numberstring =='stop':\n",
    "            break\n",
    "            \n",
    "    \n",
    "    count +=1\n",
    "    total += float(Numberstring)\n",
    "        \n",
    "    \n",
    "print ('count :' , count)\n",
    "print ('Total : ', total)\n",
    "avg = average = float(total)/float(count) \n",
    "print ('avg: ',avg)"
   ]
  },
  {
   "cell_type": "code",
   "execution_count": null,
   "metadata": {},
   "outputs": [],
   "source": []
  }
 ],
 "metadata": {
  "kernelspec": {
   "display_name": "Python 3",
   "language": "python",
   "name": "python3"
  },
  "language_info": {
   "codemirror_mode": {
    "name": "ipython",
    "version": 3
   },
   "file_extension": ".py",
   "mimetype": "text/x-python",
   "name": "python",
   "nbconvert_exporter": "python",
   "pygments_lexer": "ipython3",
   "version": "3.7.3"
  }
 },
 "nbformat": 4,
 "nbformat_minor": 2
}
