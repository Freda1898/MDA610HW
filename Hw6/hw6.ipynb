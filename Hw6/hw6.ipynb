{
 "cells": [
  {
   "cell_type": "code",
   "execution_count": 123,
   "metadata": {},
   "outputs": [],
   "source": [
    "#Write a function freq to count occurrences of each distinct character in a given string. \n",
    "#The string is passed to the function as an argument. The function returns a dictionary \n",
    "#with each character being the key of an item, and its frequency being the value of the item.\n",
    "\n",
    "string = \"racecar\"\n",
    "  \n",
    "func_freq = {} \n",
    "  \n",
    "for i in string: \n",
    "    if i in func_freq: \n",
    "        func_freq[i] += 1\n",
    "    else: \n",
    "        func_freq[i] = 1\n",
    "    \n",
    "            "
   ]
  },
  {
   "cell_type": "code",
   "execution_count": 126,
   "metadata": {},
   "outputs": [
    {
     "data": {
      "text/plain": [
       "{'r': 2, 'a': 2, 'c': 2, 'e': 1}"
      ]
     },
     "execution_count": 126,
     "metadata": {},
     "output_type": "execute_result"
    }
   ],
   "source": [
    "func_freq "
   ]
  },
  {
   "cell_type": "code",
   "execution_count": 121,
   "metadata": {},
   "outputs": [],
   "source": [
    "#Write a function min_and_max to find the minimum and maximum of a list. \n",
    "#The list is passed to the function as an argument. The function returns both the minimum and maximum. \n",
    "#Your function should work with lists of integers/floats as well as lists of strings\n",
    "\n",
    "\n",
    "def min_and_max(alst):\n",
    "    for i in alst: \n",
    "        print( min(alst))\n",
    "        print( max(alst))\n",
    "        break\n",
    "        \n",
    "        \n",
    "         \n",
    "        \n",
    "    \n",
    "    \n",
    "\n",
    "     \n",
    "\n"
   ]
  },
  {
   "cell_type": "code",
   "execution_count": 124,
   "metadata": {},
   "outputs": [
    {
     "name": "stdout",
     "output_type": "stream",
     "text": [
      "1\n",
      "17\n",
      "bat\n",
      "snail\n",
      "0.05\n",
      "9.5\n"
     ]
    }
   ],
   "source": [
    "lst = [1,2,3,4,17]\n",
    "lst1=(\"cat\", \"dog\", \"snail\", \"bat\")\n",
    "lst2= [1.3,0.8,9.5,4.5,0.05]\n",
    "\n",
    "min_and_max(lst)\n",
    "min_and_max(lst1)\n",
    "min_and_max(lst2)\n",
    "\n",
    "\n",
    "\n"
   ]
  },
  {
   "cell_type": "code",
   "execution_count": 95,
   "metadata": {},
   "outputs": [],
   "source": [
    "list1 = [1, 3, 4, ] \n",
    "list2 = [9, 5, 6, ] \n",
    "\n",
    "\n",
    "\n",
    "\n",
    "def cum_sum (list1,list2):\n",
    "    sum_list=[]\n",
    "    for i in range (0, len(list1)): \n",
    "        return [list1[i]+ list2[i]for i in range (len(list1))]\n",
    "        #sum_list.append(list1[i] + list2[i]) another way to do it\n",
    "    #print (str(sum_list)) you can print out a string instead of using return\n",
    "        \n",
    "         "
   ]
  },
  {
   "cell_type": "code",
   "execution_count": 110,
   "metadata": {},
   "outputs": [
    {
     "data": {
      "text/plain": [
       "['catmike', 'fishbob', 'dogiKe']"
      ]
     },
     "execution_count": 110,
     "metadata": {},
     "output_type": "execute_result"
    }
   ],
   "source": [
    "#cum_sum( [1,3,4],[9, 5, 6,] )\n",
    "#cum_sum ([11.9, 7.2, 7.0],[8.1,3.2,8.5])\n",
    "cum_sum ((\"cat\", \"fish\", \"dog\"), (\"mike\", \"bob\", \"iKe\"))\n"
   ]
  },
  {
   "cell_type": "code",
   "execution_count": 104,
   "metadata": {},
   "outputs": [],
   "source": [
    "#Write a function dot that takes two lists of equal length as arguments, \n",
    "#and returns the inner product of the two lists. For instance, \n",
    "#the inner product of two lists [1, 5, 2, 6] and [0, 2, 3, 1] is evaluated as (1)(0)+(5)(2)+(2)(3)+(6)(1) = 22.\n",
    "def dot (a,b):\n",
    "    if len(a)== len(b) and len (a)!=0:\n",
    "        return sum([a[i]* b[i]for i in range (len(a))])\n",
    "    else:\n",
    "        return 0\n",
    "   \n"
   ]
  },
  {
   "cell_type": "code",
   "execution_count": 94,
   "metadata": {},
   "outputs": [
    {
     "data": {
      "text/plain": [
       "48"
      ]
     },
     "execution_count": 94,
     "metadata": {},
     "output_type": "execute_result"
    }
   ],
   "source": [
    "dot ([1,3,4],[9, 5, 6,])"
   ]
  },
  {
   "cell_type": "code",
   "execution_count": null,
   "metadata": {},
   "outputs": [],
   "source": []
  },
  {
   "cell_type": "code",
   "execution_count": null,
   "metadata": {},
   "outputs": [],
   "source": []
  }
 ],
 "metadata": {
  "kernelspec": {
   "display_name": "Python 3",
   "language": "python",
   "name": "python3"
  },
  "language_info": {
   "codemirror_mode": {
    "name": "ipython",
    "version": 3
   },
   "file_extension": ".py",
   "mimetype": "text/x-python",
   "name": "python",
   "nbconvert_exporter": "python",
   "pygments_lexer": "ipython3",
   "version": "3.7.3"
  }
 },
 "nbformat": 4,
 "nbformat_minor": 2
}
