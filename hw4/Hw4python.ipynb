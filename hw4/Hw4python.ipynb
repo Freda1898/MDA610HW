{
 "cells": [
  {
   "cell_type": "code",
   "execution_count": 2,
   "metadata": {},
   "outputs": [
    {
     "name": "stdout",
     "output_type": "stream",
     "text": [
      "What is your name?Freda\n",
      "aderF\n"
     ]
    }
   ],
   "source": [
    "usercommand = input(str('What is your name?'))\n",
    "commandprint=usercommand[::-1]\n",
    "print(commandprint)"
   ]
  },
  {
   "cell_type": "code",
   "execution_count": 3,
   "metadata": {},
   "outputs": [
    {
     "name": "stdout",
     "output_type": "stream",
     "text": [
      "Add a digit7\n",
      "[1, 2, 3, 7]\n"
     ]
    }
   ],
   "source": [
    "List=[1,2,3]\n",
    "UserInput=int(input ('Add a digit'))\n",
    "List.append(UserInput)\n",
    "print(List)\n"
   ]
  },
  {
   "cell_type": "code",
   "execution_count": 6,
   "metadata": {},
   "outputs": [
    {
     "name": "stdout",
     "output_type": "stream",
     "text": [
      "Enter the radius of a circle4.8\n",
      "The area of the circle with radius 4.8 is: 72.38229473870884\n"
     ]
    }
   ],
   "source": [
    "from math import pi\n",
    "AskForInput=float(input('Enter the radius of a circle'))\n",
    "print (\"The area of the circle with radius \" + str(AskForInput) + \" is: \" + str(pi *AskForInput**2))\n",
    "\n",
    "\n"
   ]
  },
  {
   "cell_type": "code",
   "execution_count": 12,
   "metadata": {},
   "outputs": [
    {
     "name": "stdout",
     "output_type": "stream",
     "text": [
      "Enter a Number18\n",
      "65659969.13733045\n",
      "18.0\n",
      "25.96851073600134\n"
     ]
    }
   ],
   "source": [
    "#the literal e defined in the math module to \n",
    "from math import e\n",
    "import math \n",
    "UserInput=int(input(\"Enter a Number\"))\n",
    "#Assign user input to varible x\n",
    "x = UserInput\n",
    "#compute e raised to the power of x and assign the result to variable y.\n",
    "y= (e**x)\n",
    "print(y)\n",
    "#Finally, output both the natural logarithm and the common logarithm of y.\n",
    "print(math.log(y))\n",
    "print (math.log2(y)) \n"
   ]
  },
  {
   "cell_type": "code",
   "execution_count": null,
   "metadata": {},
   "outputs": [],
   "source": []
  }
 ],
 "metadata": {
  "kernelspec": {
   "display_name": "Python 3",
   "language": "python",
   "name": "python3"
  },
  "language_info": {
   "codemirror_mode": {
    "name": "ipython",
    "version": 3
   },
   "file_extension": ".py",
   "mimetype": "text/x-python",
   "name": "python",
   "nbconvert_exporter": "python",
   "pygments_lexer": "ipython3",
   "version": "3.7.3"
  }
 },
 "nbformat": 4,
 "nbformat_minor": 2
}
