{
 "cells": [
  {
   "cell_type": "markdown",
   "metadata": {},
   "source": [
    "# GDP Data Analysis with Numpy\n",
    "\n",
    "-  We will analyze the [World Bank national GDP data](https://data.worldbank.org/indicator/NY.GDP.MKTP.CD) from 2012 to 2017.\n",
    "-  Data file `GDP.csv` is downloadable from the class repository."
   ]
  },
  {
   "cell_type": "code",
   "execution_count": 35,
   "metadata": {},
   "outputs": [],
   "source": [
    "# import pandas\n",
    "import pandas as pd\n",
    "# import Numpy\n",
    "import numpy as np"
   ]
  },
  {
   "cell_type": "markdown",
   "metadata": {},
   "source": [
    "## Load the Data Set\n",
    "\n",
    "-  The code snippet below reads the data set and generates `gdp`, a Numpy ndarray."
   ]
  },
  {
   "cell_type": "code",
   "execution_count": 3,
   "metadata": {
    "scrolled": true
   },
   "outputs": [],
   "source": [
    "# load the data set\n",
    "df = pd.read_csv('GDP.csv')\n",
    "# gdp is a numpy ndarray\n",
    "gdp = df.loc[:, '2012':'2017'].values"
   ]
  },
  {
   "cell_type": "markdown",
   "metadata": {},
   "source": [
    "## Explore Data\n",
    "\n",
    "-  In this section and the next, explore and manipulate the data in the Numpy array `gdp`.\n",
    "-  The array contains the national GDP data (in trillion US Dollars) from 2012 through 2017. The countries are organized by rows. Each column includes the national GDP data in a year. \n",
    "-  Write a Python code snippet with Numpy to answer each question. Do **not** use any explicit loop."
   ]
  },
  {
   "cell_type": "markdown",
   "metadata": {},
   "source": [
    "### Question 1. How many rows (countries) are there in array `gdp`?"
   ]
  },
  {
   "cell_type": "code",
   "execution_count": 5,
   "metadata": {},
   "outputs": [
    {
     "data": {
      "text/plain": [
       "197"
      ]
     },
     "execution_count": 5,
     "metadata": {},
     "output_type": "execute_result"
    }
   ],
   "source": [
    "gdp.shape[0]"
   ]
  },
  {
   "cell_type": "markdown",
   "metadata": {},
   "source": [
    "### Question 2. How many columns (years) are there in array `gdp`?"
   ]
  },
  {
   "cell_type": "code",
   "execution_count": 6,
   "metadata": {
    "scrolled": true
   },
   "outputs": [
    {
     "data": {
      "text/plain": [
       "6"
      ]
     },
     "execution_count": 6,
     "metadata": {},
     "output_type": "execute_result"
    }
   ],
   "source": [
    "gdp.shape[1]"
   ]
  },
  {
   "cell_type": "markdown",
   "metadata": {},
   "source": [
    "### Question 3. What is the data type of array `gdp`?"
   ]
  },
  {
   "cell_type": "code",
   "execution_count": 7,
   "metadata": {},
   "outputs": [
    {
     "data": {
      "text/plain": [
       "dtype('float64')"
      ]
     },
     "execution_count": 7,
     "metadata": {},
     "output_type": "execute_result"
    }
   ],
   "source": [
    "gdp.dtype"
   ]
  },
  {
   "cell_type": "code",
   "execution_count": 14,
   "metadata": {},
   "outputs": [
    {
     "data": {
      "text/plain": [
       "array([[0.02  , 0.0206, 0.0205, 0.0199, 0.0194, 0.0202],\n",
       "       [0.0123, 0.0128, 0.0132, 0.0114, 0.0119, 0.013 ],\n",
       "       [0.2091, 0.2098, 0.2138, 0.166 , 0.1601, 0.1676],\n",
       "       ...,\n",
       "       [0.0354, 0.0404, 0.0432, 0.0426, 0.031 , 0.0268],\n",
       "       [0.0255, 0.028 , 0.0272, 0.0212, 0.021 , 0.0259],\n",
       "       [0.0171, 0.0191, 0.0195, 0.02  , 0.0205, 0.0228]])"
      ]
     },
     "execution_count": 14,
     "metadata": {},
     "output_type": "execute_result"
    }
   ],
   "source": [
    "full_data =gdp[:, :]\n",
    "full_data"
   ]
  },
  {
   "cell_type": "markdown",
   "metadata": {},
   "source": [
    "### Question 4. Output the first five countries' GDPs from 2013 through 2016 (from the second column through the fifth column). "
   ]
  },
  {
   "cell_type": "code",
   "execution_count": 12,
   "metadata": {},
   "outputs": [
    {
     "data": {
      "text/plain": [
       "array([[0.0205, 0.0199, 0.0194],\n",
       "       [0.0132, 0.0114, 0.0119],\n",
       "       [0.2138, 0.166 , 0.1601],\n",
       "       [0.0006, 0.0007, 0.0007],\n",
       "       [0.0034, 0.0028, 0.0029],\n",
       "       [0.1457, 0.1162, 0.1011]])"
      ]
     },
     "execution_count": 12,
     "metadata": {},
     "output_type": "execute_result"
    }
   ],
   "source": [
    "c= gdp[0:6, 2:5 ]\n",
    "c"
   ]
  },
  {
   "cell_type": "markdown",
   "metadata": {},
   "source": [
    "### Question 5. Output the last ten countries' GDPs in 2017 (the last column)."
   ]
  },
  {
   "cell_type": "code",
   "execution_count": 42,
   "metadata": {},
   "outputs": [
    {
     "data": {
      "text/plain": [
       "array([[1.94854e+01],\n",
       "       [5.65000e-02],\n",
       "       [5.92000e-02],\n",
       "       [8.00000e-04],\n",
       "       [2.23800e-01],\n",
       "       [3.90000e-03],\n",
       "       [1.45000e-02],\n",
       "       [2.68000e-02],\n",
       "       [2.59000e-02],\n",
       "       [2.28000e-02]])"
      ]
     },
     "execution_count": 42,
     "metadata": {},
     "output_type": "execute_result"
    }
   ],
   "source": [
    "last_ten = gdp[-10:, -1:]\n",
    "last_ten"
   ]
  },
  {
   "cell_type": "markdown",
   "metadata": {},
   "source": [
    "### Question 6. Was the eighth country's GDP in 2017 higher than 0.5 trillion US Dollars? (True or false?)"
   ]
  },
  {
   "cell_type": "code",
   "execution_count": 88,
   "metadata": {},
   "outputs": [
    {
     "data": {
      "text/plain": [
       "array([[ True,  True,  True,  True,  True]])"
      ]
     },
     "execution_count": 88,
     "metadata": {},
     "output_type": "execute_result"
    }
   ],
   "source": [
    "gdp[7:8, 0:5]>0.5\n"
   ]
  },
  {
   "cell_type": "markdown",
   "metadata": {},
   "source": [
    "## Manipulate and Aggregate Data"
   ]
  },
  {
   "cell_type": "markdown",
   "metadata": {},
   "source": [
    "### Question 7. How many GDP values in the array are higher than 0.5 trillion US Dollars?\n",
    "\n",
    "*Hint: use `np.sum()` to count the number of True elements.*"
   ]
  },
  {
   "cell_type": "code",
   "execution_count": 50,
   "metadata": {},
   "outputs": [
    {
     "data": {
      "text/plain": [
       "142"
      ]
     },
     "execution_count": 50,
     "metadata": {},
     "output_type": "execute_result"
    }
   ],
   "source": [
    "np.sum(gdp>0.5)"
   ]
  },
  {
   "cell_type": "markdown",
   "metadata": {},
   "source": [
    "### Question 8. How many countries had a GDP higher than 0.5 trillion US Dollars in 2017? "
   ]
  },
  {
   "cell_type": "code",
   "execution_count": 44,
   "metadata": {},
   "outputs": [
    {
     "data": {
      "text/plain": [
       "23"
      ]
     },
     "execution_count": 44,
     "metadata": {},
     "output_type": "execute_result"
    }
   ],
   "source": [
    "np.sum(gdp>0.5, axis=0)[5]"
   ]
  },
  {
   "cell_type": "markdown",
   "metadata": {},
   "source": [
    "### Question 9. Out of those countries that had a GDP higher than 0.5 trillion US Dollars in 2017, how many countries' GDP in 2016 was lower than 0.5 trillion US Dollars?"
   ]
  },
  {
   "cell_type": "code",
   "execution_count": 100,
   "metadata": {},
   "outputs": [
    {
     "data": {
      "text/plain": [
       "1"
      ]
     },
     "execution_count": 100,
     "metadata": {},
     "output_type": "execute_result"
    }
   ],
   "source": [
    "np.sum(gdp[gdp[:,5]>0.5,4]<0.5)\n"
   ]
  },
  {
   "cell_type": "markdown",
   "metadata": {},
   "source": [
    "### Question 10. How many countries had a lower GDP in 2017 than in 2016?"
   ]
  },
  {
   "cell_type": "code",
   "execution_count": 48,
   "metadata": {},
   "outputs": [
    {
     "data": {
      "text/plain": [
       "14"
      ]
     },
     "execution_count": 48,
     "metadata": {},
     "output_type": "execute_result"
    }
   ],
   "source": [
    "np.sum (gdp[:,5] < gdp[:,4])"
   ]
  },
  {
   "cell_type": "markdown",
   "metadata": {},
   "source": [
    "### Question 11. Output the row index of the country with the highest GDP in 2015.\n",
    "\n",
    "*Hint: use `np.argmax()`.*"
   ]
  },
  {
   "cell_type": "code",
   "execution_count": 64,
   "metadata": {},
   "outputs": [
    {
     "data": {
      "text/plain": [
       "187"
      ]
     },
     "execution_count": 64,
     "metadata": {},
     "output_type": "execute_result"
    }
   ],
   "source": [
    "np.argmax(gdp[:,3])"
   ]
  },
  {
   "cell_type": "markdown",
   "metadata": {},
   "source": [
    "### Question 12. Output the first fifteen countries' respective average yearly GDP from 2012 through 2017.\n",
    "\n",
    "- Hint: use parameter `axis` in `np.mean()`."
   ]
  },
  {
   "cell_type": "code",
   "execution_count": 51,
   "metadata": {},
   "outputs": [
    {
     "data": {
      "text/plain": [
       "array([2.01000000e-02, 1.24333333e-02, 1.87733333e-01, 6.33333333e-04,\n",
       "       3.10000000e-03, 1.24983333e-01, 1.35000000e-03, 5.69866667e-01,\n",
       "       1.09833333e-02, 2.61666667e-03, 1.41370000e+00, 4.12366667e-01,\n",
       "       5.85000000e-02, 1.13500000e-02, 3.25666667e-02])"
      ]
     },
     "execution_count": 51,
     "metadata": {},
     "output_type": "execute_result"
    }
   ],
   "source": [
    "np.mean(gdp[:15], axis=1) #axis 1 will show the countries"
   ]
  },
  {
   "cell_type": "markdown",
   "metadata": {},
   "source": [
    "### Question 13. What was the global GDP in 2016 and 2017, respectively?"
   ]
  },
  {
   "cell_type": "code",
   "execution_count": 41,
   "metadata": {},
   "outputs": [
    {
     "data": {
      "text/plain": [
       "array([[1.94000e-02, 2.02000e-02],\n",
       "       [1.19000e-02, 1.30000e-02],\n",
       "       [1.60100e-01, 1.67600e-01],\n",
       "       [7.00000e-04, 6.00000e-04],\n",
       "       [2.90000e-03, 3.00000e-03],\n",
       "       [1.01100e-01, 1.22100e-01],\n",
       "       [1.50000e-03, 1.50000e-03],\n",
       "       [5.57500e-01, 6.42700e-01],\n",
       "       [1.05000e-02, 1.15000e-02],\n",
       "       [2.60000e-03, 2.70000e-03],\n",
       "       [1.21000e+00, 1.33080e+00],\n",
       "       [3.94100e-01, 4.16800e-01],\n",
       "       [3.79000e-02, 4.09000e-02],\n",
       "       [1.18000e-02, 1.22000e-02],\n",
       "       [3.23000e-02, 3.54000e-02],\n",
       "       [2.21400e-01, 2.49700e-01],\n",
       "       [4.50000e-03, 4.70000e-03],\n",
       "       [4.77000e-02, 5.47000e-02],\n",
       "       [4.69700e-01, 4.94900e-01],\n",
       "       [1.80000e-03, 1.90000e-03],\n",
       "       [8.60000e-03, 9.20000e-03],\n",
       "       [2.20000e-03, 2.50000e-03],\n",
       "       [3.39000e-02, 3.75000e-02],\n",
       "       [1.69000e-02, 1.81000e-02],\n",
       "       [1.56000e-02, 1.74000e-02],\n",
       "       [1.79630e+00, 2.05360e+00],\n",
       "       [1.14000e-02, 1.21000e-02],\n",
       "       [5.32000e-02, 5.82000e-02],\n",
       "       [1.09000e-02, 1.23000e-02],\n",
       "       [3.00000e-03, 3.20000e-03],\n",
       "       [1.70000e-03, 1.80000e-03],\n",
       "       [2.00000e-02, 2.22000e-02],\n",
       "       [3.26000e-02, 3.49000e-02],\n",
       "       [1.52670e+00, 1.64690e+00],\n",
       "       [1.80000e-03, 2.20000e-03],\n",
       "       [1.01000e-02, 1.00000e-02],\n",
       "       [2.50300e-01, 2.77700e-01],\n",
       "       [1.11379e+01, 1.21435e+01],\n",
       "       [2.82800e-01, 3.11800e-01],\n",
       "       [1.00000e-03, 1.10000e-03],\n",
       "       [3.71000e-02, 3.80000e-02],\n",
       "       [9.00000e-03, 8.70000e-03],\n",
       "       [5.72000e-02, 5.82000e-02],\n",
       "       [3.53000e-02, 3.81000e-02],\n",
       "       [5.16000e-02, 5.52000e-02],\n",
       "       [9.14000e-02, 9.69000e-02],\n",
       "       [3.10000e-03, 3.10000e-03],\n",
       "       [2.05000e-02, 2.21000e-02],\n",
       "       [1.95100e-01, 2.15900e-01],\n",
       "       [3.12000e-01, 3.29900e-01],\n",
       "       [1.80000e-03, 1.80000e-03],\n",
       "       [6.00000e-04, 5.00000e-04],\n",
       "       [7.23000e-02, 7.59000e-02],\n",
       "       [9.99000e-02, 1.04300e-01],\n",
       "       [3.32900e-01, 2.35400e-01],\n",
       "       [2.42000e-02, 2.49000e-02],\n",
       "       [1.12000e-02, 1.23000e-02],\n",
       "       [2.40000e-02, 2.66000e-02],\n",
       "       [3.80000e-03, 4.40000e-03],\n",
       "       [7.43000e-02, 8.17000e-02],\n",
       "       [4.90000e-03, 5.30000e-03],\n",
       "       [2.39000e-01, 2.52300e-01],\n",
       "       [2.47130e+00, 2.58630e+00],\n",
       "       [1.40000e-02, 1.49000e-02],\n",
       "       [1.40000e-03, 1.50000e-03],\n",
       "       [1.44000e-02, 1.51000e-02],\n",
       "       [3.49520e+00, 3.69320e+00],\n",
       "       [5.50000e-02, 5.90000e-02],\n",
       "       [1.95200e-01, 2.03100e-01],\n",
       "       [1.10000e-03, 1.10000e-03],\n",
       "       [5.80000e-03, 5.90000e-03],\n",
       "       [6.87000e-02, 7.56000e-02],\n",
       "       [8.60000e-03, 9.90000e-03],\n",
       "       [1.20000e-03, 1.30000e-03],\n",
       "       [3.50000e-03, 3.60000e-03],\n",
       "       [8.00000e-03, 8.40000e-03],\n",
       "       [2.16000e-02, 2.29000e-02],\n",
       "       [3.20900e-01, 3.41600e-01],\n",
       "       [1.26000e-01, 1.39800e-01],\n",
       "       [2.07000e-02, 2.45000e-02],\n",
       "       [2.29040e+00, 2.65260e+00],\n",
       "       [9.31900e-01, 1.01540e+00],\n",
       "       [4.19000e-01, 4.54000e-01],\n",
       "       [1.70200e-01, 1.93200e-01],\n",
       "       [3.00500e-01, 3.34800e-01],\n",
       "       [3.19400e-01, 3.53300e-01],\n",
       "       [1.86920e+00, 1.94660e+00],\n",
       "       [1.41000e-02, 1.48000e-02],\n",
       "       [4.92670e+00, 4.86000e+00],\n",
       "       [3.93000e-02, 4.08000e-02],\n",
       "       [1.37300e-01, 1.62900e-01],\n",
       "       [6.92000e-02, 7.88000e-02],\n",
       "       [2.00000e-04, 2.00000e-04],\n",
       "       [1.41480e+00, 1.53080e+00],\n",
       "       [6.70000e-03, 7.20000e-03],\n",
       "       [1.09400e-01, 1.19600e-01],\n",
       "       [6.80000e-03, 7.70000e-03],\n",
       "       [1.58000e-02, 1.69000e-02],\n",
       "       [2.77000e-02, 3.05000e-02],\n",
       "       [5.12000e-02, 5.34000e-02],\n",
       "       [2.30000e-03, 2.60000e-03],\n",
       "       [3.30000e-03, 3.30000e-03],\n",
       "       [2.62000e-02, 3.81000e-02],\n",
       "       [4.30000e-02, 4.75000e-02],\n",
       "       [5.90000e-02, 6.23000e-02],\n",
       "       [4.53000e-02, 5.06000e-02],\n",
       "       [1.00000e-02, 1.15000e-02],\n",
       "       [5.40000e-03, 6.30000e-03],\n",
       "       [2.96800e-01, 3.14700e-01],\n",
       "       [4.40000e-03, 4.90000e-03],\n",
       "       [1.40000e-02, 1.53000e-02],\n",
       "       [1.14000e-02, 1.27000e-02],\n",
       "       [2.00000e-04, 2.00000e-04],\n",
       "       [4.70000e-03, 5.00000e-03],\n",
       "       [1.22000e-02, 1.33000e-02],\n",
       "       [1.07780e+00, 1.15810e+00],\n",
       "       [3.00000e-04, 3.00000e-04],\n",
       "       [8.10000e-03, 9.70000e-03],\n",
       "       [6.50000e-03, 6.40000e-03],\n",
       "       [1.12000e-02, 1.14000e-02],\n",
       "       [4.40000e-03, 4.80000e-03],\n",
       "       [1.03300e-01, 1.09700e-01],\n",
       "       [1.09000e-02, 1.27000e-02],\n",
       "       [6.33000e-02, 6.67000e-02],\n",
       "       [1.13000e-02, 1.36000e-02],\n",
       "       [1.00000e-04, 1.00000e-04],\n",
       "       [2.12000e-02, 2.49000e-02],\n",
       "       [7.83500e-01, 8.31800e-01],\n",
       "       [1.87900e-01, 2.02600e-01],\n",
       "       [1.33000e-02, 1.38000e-02],\n",
       "       [7.50000e-03, 8.10000e-03],\n",
       "       [4.04600e-01, 3.75700e-01],\n",
       "       [1.07000e-02, 1.13000e-02],\n",
       "       [1.30000e-03, 1.60000e-03],\n",
       "       [3.71300e-01, 3.99500e-01],\n",
       "       [6.59000e-02, 7.08000e-02],\n",
       "       [2.78700e-01, 3.05000e-01],\n",
       "       [3.00000e-04, 3.00000e-04],\n",
       "       [5.80000e-02, 6.23000e-02],\n",
       "       [2.08000e-02, 2.23000e-02],\n",
       "       [3.61000e-02, 3.90000e-02],\n",
       "       [1.91900e-01, 2.10700e-01],\n",
       "       [3.04900e-01, 3.13600e-01],\n",
       "       [4.72000e-01, 5.26400e-01],\n",
       "       [2.06300e-01, 2.19300e-01],\n",
       "       [1.04300e-01, 1.04300e-01],\n",
       "       [1.51700e-01, 1.66900e-01],\n",
       "       [1.88500e-01, 2.11400e-01],\n",
       "       [1.28270e+00, 1.57860e+00],\n",
       "       [8.50000e-03, 9.10000e-03],\n",
       "       [8.00000e-04, 8.00000e-04],\n",
       "       [1.60000e-03, 1.60000e-03],\n",
       "       [3.00000e-04, 4.00000e-04],\n",
       "       [6.44900e-01, 6.88600e-01],\n",
       "       [1.90000e-02, 2.11000e-02],\n",
       "       [4.06000e-02, 4.41000e-02],\n",
       "       [1.40000e-03, 1.50000e-03],\n",
       "       [3.70000e-03, 3.70000e-03],\n",
       "       [3.18100e-01, 3.38400e-01],\n",
       "       [8.98000e-02, 9.56000e-02],\n",
       "       [4.46000e-02, 4.85000e-02],\n",
       "       [1.20000e-03, 1.30000e-03],\n",
       "       [2.96300e-01, 3.49300e-01],\n",
       "       [1.23750e+00, 1.31430e+00],\n",
       "       [8.24000e-02, 8.80000e-02],\n",
       "       [1.00000e-03, 1.00000e-03],\n",
       "       [1.70000e-03, 1.80000e-03],\n",
       "       [8.00000e-04, 8.00000e-04],\n",
       "       [9.56000e-02, 1.23100e-01],\n",
       "       [3.20000e-03, 3.10000e-03],\n",
       "       [5.12200e-01, 5.35600e-01],\n",
       "       [6.70200e-01, 6.79000e-01],\n",
       "       [7.00000e-03, 7.20000e-03],\n",
       "       [4.98000e-02, 5.33000e-02],\n",
       "       [4.12400e-01, 4.55300e-01],\n",
       "       [2.50000e-03, 2.50000e-03],\n",
       "       [4.40000e-03, 4.80000e-03],\n",
       "       [4.00000e-04, 4.00000e-04],\n",
       "       [2.17000e-02, 2.23000e-02],\n",
       "       [4.18000e-02, 4.00000e-02],\n",
       "       [8.63700e-01, 8.51500e-01],\n",
       "       [3.62000e-02, 3.79000e-02],\n",
       "       [1.00000e-03, 1.00000e-03],\n",
       "       [2.41000e-02, 2.60000e-02],\n",
       "       [9.34000e-02, 1.12200e-01],\n",
       "       [3.57000e-01, 3.82600e-01],\n",
       "       [2.65920e+00, 2.63790e+00],\n",
       "       [1.87072e+01, 1.94854e+01],\n",
       "       [5.27000e-02, 5.65000e-02],\n",
       "       [8.18000e-02, 5.92000e-02],\n",
       "       [8.00000e-04, 8.00000e-04],\n",
       "       [2.05300e-01, 2.23800e-01],\n",
       "       [3.90000e-03, 3.90000e-03],\n",
       "       [1.34000e-02, 1.45000e-02],\n",
       "       [3.10000e-02, 2.68000e-02],\n",
       "       [2.10000e-02, 2.59000e-02],\n",
       "       [2.05000e-02, 2.28000e-02]])"
      ]
     },
     "execution_count": 41,
     "metadata": {},
     "output_type": "execute_result"
    }
   ],
   "source": [
    "b= gdp[ : , -2: ] \n",
    "b"
   ]
  },
  {
   "cell_type": "markdown",
   "metadata": {},
   "source": [
    "### Question 14. What was the fifth highest national GDP in 2017?\n",
    "\n",
    "*Hint: use `np.sort()`.*"
   ]
  },
  {
   "cell_type": "code",
   "execution_count": 46,
   "metadata": {},
   "outputs": [
    {
     "data": {
      "text/plain": [
       "2.6526"
      ]
     },
     "execution_count": 46,
     "metadata": {},
     "output_type": "execute_result"
    }
   ],
   "source": [
    "np.sort(gdp [:,5])[-5]"
   ]
  },
  {
   "cell_type": "markdown",
   "metadata": {},
   "source": [
    "### Question 15. How many countries' GDP increased by at least 30% from 2012 to 2017?"
   ]
  },
  {
   "cell_type": "code",
   "execution_count": 102,
   "metadata": {},
   "outputs": [
    {
     "data": {
      "text/plain": [
       "6"
      ]
     },
     "execution_count": 102,
     "metadata": {},
     "output_type": "execute_result"
    }
   ],
   "source": [
    "np.sum(gdp[5] > gdp[0] *1.3)"
   ]
  },
  {
   "cell_type": "code",
   "execution_count": null,
   "metadata": {},
   "outputs": [],
   "source": []
  }
 ],
 "metadata": {
  "kernelspec": {
   "display_name": "Python 3",
   "language": "python",
   "name": "python3"
  },
  "language_info": {
   "codemirror_mode": {
    "name": "ipython",
    "version": 3
   },
   "file_extension": ".py",
   "mimetype": "text/x-python",
   "name": "python",
   "nbconvert_exporter": "python",
   "pygments_lexer": "ipython3",
   "version": "3.7.3"
  }
 },
 "nbformat": 4,
 "nbformat_minor": 2
}
