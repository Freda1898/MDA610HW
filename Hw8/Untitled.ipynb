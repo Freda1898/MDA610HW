{
 "cells": [
  {
   "cell_type": "code",
   "execution_count": 5,
   "metadata": {},
   "outputs": [
    {
     "name": "stdout",
     "output_type": "stream",
     "text": [
      "enter number of elements in list: 10\n",
      "enter an interger 1\n",
      "enter an interger 2\n",
      "enter an interger 3\n",
      "enter an interger 4\n",
      "enter an interger 5\n",
      "enter an interger 6\n",
      "enter an interger 7\n",
      "enter an interger 8\n",
      "enter an interger 9\n",
      "enter an interger 10\n",
      "The Largest Element in this List is :  10\n",
      "The Second Largest Element in this List is :  9\n"
     ]
    }
   ],
   "source": [
    "#3.16\n",
    "\n",
    "list1=[]\n",
    "  \n",
    "num = int(input(\"enter number of elements in list: \"))\n",
    "      \n",
    "for i in range(10):\n",
    "    ele= int(input(\"enter an interger \"))\n",
    "    list1.append(ele)  \n",
    "    \n",
    "first = second = list1[0]\n",
    "for j in range(1, 10):\n",
    "    if(list1[j] > first):\n",
    "        second = first\n",
    "        first = list1[j]\n",
    "    elif(list1[j] > second and list1[j] < first):\n",
    "        second = list1[j]\n",
    "        \n",
    "\n",
    "print(\"The Largest Element in this List is : \", first)\n",
    "print(\"The Second Largest Element in this List is : \", second)\n",
    "    \n",
    "    "
   ]
  },
  {
   "cell_type": "code",
   "execution_count": null,
   "metadata": {},
   "outputs": [],
   "source": []
  },
  {
   "cell_type": "markdown",
   "metadata": {},
   "source": [
    "###### "
   ]
  },
  {
   "cell_type": "code",
   "execution_count": null,
   "metadata": {},
   "outputs": [],
   "source": [
    "#3.17\n",
    "#Triangle\n",
    "for num in range(11):\n",
    "    for i in range (num):\n",
    "        print (\"*\", end=\" \")\n",
    "    print('\\n')\n",
    "\n"
   ]
  },
  {
   "cell_type": "code",
   "execution_count": null,
   "metadata": {},
   "outputs": [],
   "source": [
    "#3.18 (b)\n",
    "#Triangle\n",
    "\n",
    "\n",
    "\n",
    "\n",
    "\n"
   ]
  },
  {
   "cell_type": "code",
   "execution_count": null,
   "metadata": {},
   "outputs": [],
   "source": [
    "#3.19\n",
    "\n"
   ]
  },
  {
   "cell_type": "code",
   "execution_count": null,
   "metadata": {},
   "outputs": [],
   "source": [
    "#3.20\n",
    "\n",
    "def pythagoreanTri(limits): \n",
    "    c, m = 0, 2\n",
    "  \n",
    "   \n",
    "    while c < limits : \n",
    "          \n",
    "             \n",
    "        for n in range(1, m) : \n",
    "            a = m * m - n * n \n",
    "            b = 2 * m * n \n",
    "            c = m * m + n * n \n",
    "  \n",
    "\n",
    "            if c > limits : \n",
    "                break\n",
    "  \n",
    "            print(a, b, c) \n",
    "  "
   ]
  },
  {
   "cell_type": "code",
   "execution_count": null,
   "metadata": {},
   "outputs": [],
   "source": [
    "pythagoreanTri(20)\n",
    "    "
   ]
  },
  {
   "cell_type": "code",
   "execution_count": null,
   "metadata": {},
   "outputs": [],
   "source": [
    "k = 8\n",
    "for i in range(0, 5):\n",
    "    for j in range(0, k):\n",
    "        print(end=\" \")\n",
    "    k = k - 2\n",
    "    for j in range(0, i+1):\n",
    "        print(\"* \", end=\"\")\n",
    "    print()"
   ]
  },
  {
   "cell_type": "code",
   "execution_count": null,
   "metadata": {},
   "outputs": [],
   "source": [
    "def func():\n",
    "    import math\n",
    "    n=int(input( 'enter the total number of terms to be summed: '))\n",
    "    sum_t =0 \n",
    "    for i in range (n):\n",
    "        sum_t= sum_t+4.0(-1)**i/(2*i+1)\n",
    "        accurate= 100*abs(math.pi-sum_t)/sum_t\n",
    "        print('the approx of pi of ', n, 'is', sum_t)\n",
    "        print('the accuracy of approx is ', accurate, '%')\n",
    "    \n",
    "func()"
   ]
  },
  {
   "cell_type": "code",
   "execution_count": null,
   "metadata": {},
   "outputs": [],
   "source": []
  }
 ],
 "metadata": {
  "kernelspec": {
   "display_name": "Python 3",
   "language": "python",
   "name": "python3"
  },
  "language_info": {
   "codemirror_mode": {
    "name": "ipython",
    "version": 3
   },
   "file_extension": ".py",
   "mimetype": "text/x-python",
   "name": "python",
   "nbconvert_exporter": "python",
   "pygments_lexer": "ipython3",
   "version": "3.7.3"
  }
 },
 "nbformat": 4,
 "nbformat_minor": 2
}
