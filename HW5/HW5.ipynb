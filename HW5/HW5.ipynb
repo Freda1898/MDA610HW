{
 "cells": [
  {
   "cell_type": "code",
   "execution_count": null,
   "metadata": {},
   "outputs": [],
   "source": [
    "grade= int( input(\"input a numeric grade \"))\n",
    "if grade >=90:\n",
    "    print(\"Your Grade is A\")\n",
    "elif grade >=80:\n",
    "    print(\"your Grade is B\")\n",
    "elif grade >=70:\n",
    "    print(\"your Grade is c\")\n",
    "elif grade >=60:\n",
    "    print(\"your Grade is D\")\n",
    "elif grade >=0:\n",
    "    print(\"your Grade is F\")\n"
   ]
  },
  {
   "cell_type": "code",
   "execution_count": null,
   "metadata": {},
   "outputs": [],
   "source": [
    "#For two given lists, construct a new list that contains the elements common to both lists.\n",
    "def Union(Alist, Blist): \n",
    "    final_list = list(set(Alist) | set(Blist)) #set the final list to inculde everything in Alist or Blist, this takesout repeats. \n",
    "    return final_list \n",
    "\n",
    "Alist= [99,4,15,2,45,13]\n",
    "Blist= [6,2,99,15,60,13]\n",
    "\n",
    "\n",
    "\n",
    "print(Union(Alist,Blist))\n"
   ]
  },
  {
   "cell_type": "code",
   "execution_count": 8,
   "metadata": {},
   "outputs": [
    {
     "name": "stdout",
     "output_type": "stream",
     "text": [
      "1 2 3 4 5 2 4 6 8 10 3 6 9 12 15 4 8 12 16 20 "
     ]
    }
   ],
   "source": [
    "#Use for loops to output the following matrix.\n",
    "for row in range(1,5):\n",
    "    for col in range (1,6,1):\n",
    "        print(row*col, end =\" \")\n",
    "   "
   ]
  },
  {
   "cell_type": "code",
   "execution_count": 4,
   "metadata": {},
   "outputs": [
    {
     "name": "stdout",
     "output_type": "stream",
     "text": [
      "200,202,204,206,208,220,222,224,226,228,240,242,244,246,248,260,262,264,266,268,280,282,284,286,288,400\n"
     ]
    }
   ],
   "source": [
    "    #Output the numbers between 100 and 400 (both included) \n",
    "    #where all three digits of a number are even. The numbers printed out are separated \n",
    "    #by commas. (Hint: x // 1 % 10, x // 10 % 10, and x // 100 % 10 return, \n",
    "    #respectively, the units digit, the 10s digit and the 100s digit of a number x.)\n",
    "    items = []\n",
    "    for A in range (100,401): \n",
    "        x = str(A)\n",
    "        if (int (x[0]) %2==0// 1 % 10) and (int (x[1])%2==0 // 10 % 10)and(int (x [2])%2==0 // 100 % 10):\n",
    "            items.append(x)\n",
    "            \n",
    "    print( \",\".join(items))\n",
    "    \n",
    "    \n",
    "    \n",
    "    \n",
    "    "
   ]
  },
  {
   "cell_type": "code",
   "execution_count": 5,
   "metadata": {},
   "outputs": [
    {
     "data": {
      "text/plain": [
       "Counter({'a': 250, 'b': 320, 'c': 400, 'd': 10, 'e': 60})"
      ]
     },
     "execution_count": 5,
     "metadata": {},
     "output_type": "execute_result"
    }
   ],
   "source": [
    "#Combine two dictionaries into one. If a key exists in both dictionaries, \n",
    "#then add the values together. \n",
    "#Sample data: adict = {'a': 200, 'b': 300, 'c': 400}, \n",
    "#bdict = {'a': 50, 'b': 20, 'd': 10, 'e': 60}. \n",
    "#Sample output: {'a': 250, 'b': 320, 'c': 400, 'd': 10, 'e': 60}.\n",
    "\n",
    "from collections import Counter\n",
    "#used the Counter library to add all vaules to common keys\n",
    "adict = Counter ({'a': 200, 'b': 300, 'c': 400}) \n",
    "bdict = Counter ({'a': 50, 'b': 20, 'd': 10, 'e': 60})\n",
    "\n",
    "adict+bdict\n",
    "\n",
    "\n"
   ]
  },
  {
   "cell_type": "code",
   "execution_count": null,
   "metadata": {},
   "outputs": [],
   "source": []
  }
 ],
 "metadata": {
  "kernelspec": {
   "display_name": "Python 3",
   "language": "python",
   "name": "python3"
  },
  "language_info": {
   "codemirror_mode": {
    "name": "ipython",
    "version": 3
   },
   "file_extension": ".py",
   "mimetype": "text/x-python",
   "name": "python",
   "nbconvert_exporter": "python",
   "pygments_lexer": "ipython3",
   "version": "3.7.3"
  }
 },
 "nbformat": 4,
 "nbformat_minor": 2
}
