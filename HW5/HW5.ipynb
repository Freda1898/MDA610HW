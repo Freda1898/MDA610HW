{
 "cells": [
  {
   "cell_type": "code",
   "execution_count": null,
   "metadata": {},
   "outputs": [],
   "source": [
    "grade= int( input(\"input a numeric grade \"))\n",
    "if grade >=90:\n",
    "    print(\"Your Grade is A\")\n",
    "elif grade >=80:\n",
    "    print(\"your Grade is B\")\n",
    "elif grade >=70:\n",
    "    print(\"your Grade is c\")\n",
    "elif grade >=60:\n",
    "    print(\"your Grade is D\")\n",
    "elif grade >=0:\n",
    "    print(\"your Grade is F\")\n"
   ]
  },
  {
   "cell_type": "markdown",
   "metadata": {},
   "source": [
    "#For two given lists, construct a new list that contains the elements common to both lists.\n",
    "def Union(Alist, Blist): \n",
    "    final_list = list(set(Alist) | set(Blist)) #set the final list to inculde everything in Alist or Blist, this takesout repeats. \n",
    "    return final_list \n",
    "\n",
    "Alist= [99,4,15,2,45,13]\n",
    "Blist= [6,2,99,15,60,13]\n",
    "\n",
    "\n",
    "\n",
    "print(Union(Alist,Blist))\n"
   ]
  },
  {
   "cell_type": "markdown",
   "metadata": {},
   "source": [
    "#Use for loops to output the following matrix.\n",
    "\n",
    "for i in range (1,6,1):\n",
    "    print(i)"
   ]
  },
  {
   "cell_type": "markdown",
   "metadata": {},
   "source": [
    "#2 4 6 8 10\n",
    "for b in range(2,12):#start at 2 up to 11\n",
    "    if b %2==0:#counting all multiples of 2 ( or all even numbers)\n",
    "        print(b)"
   ]
  },
  {
   "cell_type": "markdown",
   "metadata": {},
   "source": [
    "#3 6 9 12 15\n",
    "for k in range (3,17): #start cycle at 3 up to 16 \n",
    "    if k % 3==0:#counting all mulitples of 3\n",
    "        print(k)"
   ]
  },
  {
   "cell_type": "markdown",
   "metadata": {},
   "source": [
    "#4 8 12 16 20\n",
    "for f in range (4,24,4): #start at 4, up to 23 skipping every 4 digits \n",
    "    print(f)\n",
    "    "
   ]
  },
  {
   "cell_type": "markdown",
   "metadata": {},
   "source": [
    "    #Output the numbers between 100 and 400 (both included) \n",
    "    #where all three digits of a number are even. The numbers printed out are separated \n",
    "    #by commas. (Hint: x // 1 % 10, x // 10 % 10, and x // 100 % 10 return, \n",
    "    #respectively, the units digit, the 10s digit and the 100s digit of a number x.)\n",
    "    items = []\n",
    "    for A in range (100,401): \n",
    "        x = str(A)\n",
    "        if (int (x[0]) %2==0// 1 % 10) and (int (x[1])%2==0 // 10 % 10)and(int (x [2])%2==0 // 100 % 10):\n",
    "            items.append(x)\n",
    "            \n",
    "    print( \",\".join(items))\n",
    "    \n",
    "    \n",
    "    \n",
    "    \n",
    "    "
   ]
  },
  {
   "cell_type": "markdown",
   "metadata": {},
   "source": [
    "#Combine two dictionaries into one. If a key exists in both dictionaries, \n",
    "#then add the values together. \n",
    "#Sample data: adict = {'a': 200, 'b': 300, 'c': 400}, \n",
    "#bdict = {'a': 50, 'b': 20, 'd': 10, 'e': 60}. \n",
    "#Sample output: {'a': 250, 'b': 320, 'c': 400, 'd': 10, 'e': 60}.\n",
    "\n",
    "from collections import Counter\n",
    "#used the Counter library to add all vaules to common keys\n",
    "adict = Counter ({'a': 200, 'b': 300, 'c': 400}) \n",
    "bdict = Counter ({'a': 50, 'b': 20, 'd': 10, 'e': 60})\n",
    "\n",
    "adict+bdict\n",
    "\n",
    "\n"
   ]
  },
  {
   "cell_type": "code",
   "execution_count": null,
   "metadata": {},
   "outputs": [],
   "source": []
  }
 ],
 "metadata": {
  "kernelspec": {
   "display_name": "Python 3",
   "language": "python",
   "name": "python3"
  },
  "language_info": {
   "codemirror_mode": {
    "name": "ipython",
    "version": 3
   },
   "file_extension": ".py",
   "mimetype": "text/x-python",
   "name": "python",
   "nbconvert_exporter": "python",
   "pygments_lexer": "ipython3",
   "version": "3.7.3"
  }
 },
 "nbformat": 4,
 "nbformat_minor": 2
}
